{
 "cells": [
  {
   "cell_type": "code",
   "execution_count": 2,
   "metadata": {},
   "outputs": [],
   "source": [
    "#medical shop data list \n",
    "# supplier name    product id    product name     location(where the product is placed in the shop)     Price     Quantity          Reorder_Quantity     Purchased_date\n",
    "record = {\n",
    "1:  {\"Supplier\" : \"Glenmark\", \"Pid\" : \"p002\", \"Name\" : \"Aprezo Tablet\", \"Location\": \"Row 3 Column 4\", \"Price\" : 650.56, \"Quantity\" : 45, \"Reorder_Quantity\": 21, \"Purchased_Date\":\"03-aug-21\"},\n",
    "2:  {\"Supplier\" : \"Johnson & Johnson\", \"Pid\" : \"p0453\", \"Name\" : \"Ultracet\", \"Location\": \"Row 2 Column 2\", \"Price\" : 422.34, \"Quantity\" : 67, \"Reorder_Quantity\": 24, \"Purchased_Date\":\"04-jun-21\"},\n",
    "3:  {\"Supplier\" : \"Abbott India\", \"Pid\" : \"p047\", \"Name\" : \"Pedia Sure\", \"Location\": \"Row 3 Column 3\", \"Price\" : 760.65,\"Quantity\":0, \"Reorder_Quantity\": 52, \"Purchased_Date\":\"01-jun-21\"},\n",
    "4:  {\"Supplier\" : \"Cipla\", \"Pid\" : \"p023\", \"Name\" : \"Ataron Eye Drop\", \"Location\": \"Row 2 Column 4\", \"Price\" : 654.40, \"Quantity\" : 23, \"Reorder_Quantity\": 12, \"Purchased_Date\":\"01-jun-21\"},\n",
    "5:  {\"Supplier\" : \"Cipla\", \"Pid\" : \"p003\", \"Name\" : \"Acemax 250mg Tablet\",\"Location\": \"Row 1 Column 4\", \"Price\" : 324.0, \"Quantity\" : 4, \"Reorder_Quantity\": 21, \"Purchased_Date\":\"23-jun-21\"},\n",
    "6:  {\"Supplier\" : \"Abbott India\", \"Pid\" : \"p009\", \"Name\" : \"Ensure\",\"Location\": \"Row 2 Column 1\", \"Price\" : 657.87, \"Quantity\" : 76, \"Reorder_Quantity\": 10, \"Purchased_Date\":\"13-jul-21\"},\n",
    "7:  {\"Supplier\" : \"Johnson & Johnson\", \"Pid\" : \"p043\", \"Name\" : \"Pepcid\", \"Location\": \"Row 4 Column 5\",\"Price\" : 874.00, \"Quantity\" : 54, \"Reorder_Quantity\": 10, \"Purchased_Date\":\"12-jul-21\"},\n",
    "8:  {\"Supplier\" : \"Lupin\", \"Pid\" : \"p072\", \"Name\" : \"Namuscla 167 mg hard capsules\", \"Location\": \"Row 1 Column 3\",\"Price\" : 896.00, \"Quantity\" : 87 , \"Reorder_Quantity\": 20, \"Purchased_Date\":\"02-jul-21\"},\n",
    "9:  {\"Supplier\" : \"Lupin\", \"Pid\" : \"p062\", \"Name\" : \"Sertraline 100 mg Tablets\",\"Location\": \"Row 5 Column 4\", \"Price\" : 3312.00, \"Quantity\" : 6, \"Reorder_Quantity\": 30, \"Purchased_Date\":\"30-jun-21\"},\n",
    "10: {\"Supplier\" : \"Sun Pharma\", \"Pid\" : \"p097\", \"Name\" : \"Nintedanib 100 mg Capsules 10'S\",\"Location\": \"Row 3 Column 1\", \"Price\" : 342.43, \"Quantity\" : 4,\"Reorder_Quantity\": 65, \"Purchased_Date\":\"31-jul-21\"},\n",
    "11: {\"Supplier\" : \"Lupin\", \"Pid\" : \"p022\", \"Name\" : \"Sertraline 50 mg Tablets\",\"Location\": \"Row 2 Column 5\", \"Price\" : 456.63, \"Quantity\" : 1, \"Reorder_Quantity\": 55, \"Purchased_Date\":\"23-may-21\"},\n",
    "12: {\"Supplier\" : \"Cipla\", \"Pid\" : \"p032\", \"Name\" : \"Apetin Drop\", \"Location\": \"Row 3 Column 7\", \"Price\" : 898.43, \"Quantity\" : 2, \"Reorder_Quantity\": 33, \"Purchased_Date\":\"31-apr-21\"},\n",
    "13: {\"Supplier\" : \"Glenmark\", \"Pid\" : \"p092\", \"Name\" : \"Asar 40 Tablet\",\"Location\": \"Row 3 Column 6\", \"Price\" : 424.40, \"Quantity\" : 3, \"Reorder_Quantity\": 22, \"Purchased_Date\":\"12-aug-21\"},\n",
    "14: {\"Supplier\" : \"Glenmark\", \"Pid\" : \"p052\", \"Name\" : \"Ascodex Plus Syrup\",\"Location\": \"Row 6 Column 5\", \"Price\" : 389.00, \"Quantity\" : 3,\"Reorder_Quantity\": 44, \"Purchased_Date\":\"12-aug-21\"},\n",
    "15: {\"Supplier\" : \"Nectar Life\", \"Pid\" : \"p068\", \"Name\" : \"Paracetamol\", \"Location\": \"Row 6 Column 6\", \"Price\" : 549.09, \"Quantity\" : 5,\"Reorder_Quantity\": 34, \"Purchased_Date\":\"13-aug-21\"},\n",
    "16: {\"Supplier\" : \"FDC\", \"Pid\" : \"p099\", \"Name\" : \"Tenofovir alafenamide\",\"Location\": \"Row 5 Column 4\", \"Price\" : 2309.43, \"Quantity\" : 6 ,\"Reorder_Quantity\": 12, \"Purchased_Date\":\"15-aug-21\"},\n",
    "17: {\"Supplier\" : \"Cipla\", \"Pid\" : \"p046\", \"Name\" : \"Alerid Cold Tablet\", \"Location\": \"Row 2 Column 8\", \"Price\" : 432.56, \"Quantity\" : 6, \"Reorder_Quantity\": 23, \"Purchased_Date\":\"31-jul-21\"},\n",
    "18: {\"Supplier\" : \"Cipla\", \"Pid\" : \"p052\", \"Name\" : \"Acivir Cream\",\"Location\": \"Row 1 Column 7\", \"Price\" : 348.45, \"Quantity\" : 77,\"Reorder_Quantity\": 76, \"Purchased_Date\":\"15-aug-21\"},\n",
    "19: {\"Supplier\" : \"Nectar Life\", \"Pid\" : \"p007\", \"Name\" : \"Cetirizine\", \"Location\": \"Row 3 Column 10\", \"Price\" : 54.34, \"Quantity\" : 34, \"Reorder_Quantity\": 90, \"Purchased_Date\":\"02-jul-21\"},\n",
    "20: {\"Supplier\" : \"Johnson & Johnson\", \"Pid\" : \"p040\", \"Name\" : \"Band-Aid\",\"Location\": \"Row 1 Column 2\", \"Price\" : 5.00, \"Quantity\" : 46, \"Reorder_Quantity\": 65, \"Purchased_Date\":\"01-jun-21\"},\n",
    "21: {\"Supplier\" : \"Abbott India\", \"Pid\" : \"p005\", \"Name\" : \"Freestyle\", \"Location\": \"Row 2 Column 3\",\"Price\" : 53.50, \"Quantity\" : 34, \"Reorder_Quantity\": 65, \"Purchased_Date\":\"07-aug-21\"},\n",
    "22: {\"Supplier\" : \"Cipla\", \"Pid\" : \"p003\", \"Name\" : \"Zosul 1000 mg/500 mg Injection\",\"Location\": \"Row 6 Column 4\", \"Price\" : 750.53, \"Quantity\" : 54,\"Reorder_Quantity\": 32, \"Purchased_Date\":\"10-aug-21\"},\n",
    "23: {\"Supplier\" : \"Sun Pharma\", \"Pid\" : \"p075\", \"Name\" : \" Sunitinib 12.5 mg Capsule 7'S\", \"Location\": \"Row 4 Column 3\",\"Price\" : 123.00, \"Quantity\" : 23, \"Reorder_Quantity\": 0, \"Purchased_Date\":\"05-sep-21\"},\n",
    "24: {\"Supplier\" : \"Nectar Life\", \"Pid\" : \"p024\", \"Name\" : \"Azithromycin\", \"Location\": \"Row 1 Column 7\",\"Price\" : 331.44, \"Quantity\" : 34, \"Reorder_Quantity\": 34, \"Purchased_Date\":\"03-sep-21\"},\n",
    "25: {\"Supplier\" : \"Sun Pharma\", \"Pid\" : \"p023\", \"Name\" : \"Zovair 160mcg/12mcg Inhaler\", \"Location\": \"Row 6 Column 8\",\"Price\" : 123.44, \"Quantity\" : 32, \"Reorder_Quantity\": 32, \"Purchased_Date\":\"30-aug-21\"},\n",
    "26: {\"Supplier\" : \"Abbott India\", \"Pid\" : \"p015\", \"Name\" : \"Pedialyte\",\"Location\": \"Row 1 Column 1\", \"Price\" : 223.54, \"Quantity\" : 43, \"Reorder_Quantity\": 30, \"Purchased_Date\":\"28-aug-21\"},\n",
    "27: {\"Supplier\" : \"Cipla\", \"Pid\" : \"p062\", \"Name\" : \"Viraday Tablet 30'S\", \"Location\": \"Row 5 Column 5\",\"Price\" : 543.24, \"Quantity\" : 43, \"Reorder_Quantity\": 30, \"Purchased_Date\":\"12-aug-21\"},\n",
    "28: {\"Supplier\" : \"Nectar Life\", \"Pid\" : \"p027\", \"Name\" : \"Amikacin\", \"Location\": \"Row 2 Column 7\",\"Price\" : 53.22, \"Quantity\" : 87, \"Reorder_Quantity\": 25, \"Purchased_Date\":\"22-aug-21\"},\n",
    "29: {\"Supplier\" : \"FDC\", \"Pid\" : \"p065\", \"Name\" : \"Deflazacort\",\"Location\": \"Row 7 Column 7\", \"Price\" : 535.32, \"Quantity\" :0 ,\"Reorder_Quantity\": 50, \"Purchased_Date\":\"01-sep-21\"},\n",
    "30: {\"Supplier\" : \"Johnson & Johnson\", \"Pid\" : \"p042\", \"Name\" : \"Tylenol\", \"Location\": \"Row 3 Column 8\",\"Price\" : 500.43, \"Quantity\" : 0, \"Reorder_Quantity\": 40, \"Purchased_Date\":\"01-sep-21\"}}"
   ]
  },
  {
   "cell_type": "code",
   "execution_count": 23,
   "metadata": {},
   "outputs": [
    {
     "name": "stdout",
     "output_type": "stream",
     "text": [
      "1  =  {'Supplier': 'Glenmark', 'Pid': 'p002', 'Name': 'Aprezo Tablet', 'Location': 'Row 3 Column 4', 'Price': 650.56, 'Quantity': 45, 'Reorder_Quantity': 21, 'Purchased_Date': '03-aug-21'} \n",
      "\n",
      "2  =  {'Supplier': 'Johnson & Johnson', 'Pid': 'p0453', 'Name': 'Ultracet', 'Location': 'Row 2 Column 2', 'Price': 422.34, 'Quantity': 67, 'Reorder_Quantity': 24, 'Purchased_Date': '04-jun-21'} \n",
      "\n",
      "3  =  {'Supplier': 'Abbott India', 'Pid': 'p047', 'Name': 'Pedia Sure', 'Location': 'Row 3 Column 3', 'Price': 760.65, 'Quantity': 0, 'Reorder_Quantity': 52, 'Purchased_Date': '01-jun-21'} \n",
      "\n",
      "4  =  {'Supplier': 'Cipla', 'Pid': 'p023', 'Name': 'Ataron Eye Drop', 'Location': 'Row 2 Column 4', 'Price': 654.4, 'Quantity': 23, 'Reorder_Quantity': 12, 'Purchased_Date': '01-jun-21'} \n",
      "\n",
      "5  =  {'Supplier': 'Cipla', 'Pid': 'p003', 'Name': 'Acemax 250mg Tablet', 'Location': 'Row 1 Column 4', 'Price': 324.0, 'Quantity': 4, 'Reorder_Quantity': 21, 'Purchased_Date': '23-jun-21'} \n",
      "\n",
      "6  =  {'Supplier': 'Abbott India', 'Pid': 'p009', 'Name': 'Ensure', 'Location': 'Row 2 Column 1', 'Price': 657.87, 'Quantity': 76, 'Reorder_Quantity': 10, 'Purchased_Date': '13-jul-21'} \n",
      "\n",
      "7  =  {'Supplier': 'Johnson & Johnson', 'Pid': 'p043', 'Name': 'Pepcid', 'Location': 'Row 4 Column 5', 'Price': 874.0, 'Quantity': 54, 'Reorder_Quantity': 10, 'Purchased_Date': '12-jul-21'} \n",
      "\n",
      "8  =  {'Supplier': 'Lupin', 'Pid': 'p072', 'Name': 'Namuscla 167 mg hard capsules', 'Location': 'Row 1 Column 3', 'Price': 896.0, 'Quantity': 87, 'Reorder_Quantity': 20, 'Purchased_Date': '02-jul-21'} \n",
      "\n",
      "9  =  {'Supplier': 'Lupin', 'Pid': 'p062', 'Name': 'Sertraline 100 mg Tablets', 'Location': 'Row 5 Column 4', 'Price': 3312.0, 'Quantity': 6, 'Reorder_Quantity': 30, 'Purchased_Date': '30-jun-21'} \n",
      "\n",
      "10  =  {'Supplier': 'Sun Pharma', 'Pid': 'p097', 'Name': \"Nintedanib 100 mg Capsules 10'S\", 'Location': 'Row 3 Column 1', 'Price': 342.43, 'Quantity': 4, 'Reorder_Quantity': 65, 'Purchased_Date': '31-jul-21'} \n",
      "\n",
      "11  =  {'Supplier': 'Lupin', 'Pid': 'p022', 'Name': 'Sertraline 50 mg Tablets', 'Location': 'Row 2 Column 5', 'Price': 456.63, 'Quantity': 1, 'Reorder_Quantity': 55, 'Purchased_Date': '23-may-21'} \n",
      "\n",
      "12  =  {'Supplier': 'Cipla', 'Pid': 'p032', 'Name': 'Apetin Drop', 'Location': 'Row 3 Column 7', 'Price': 898.43, 'Quantity': 2, 'Reorder_Quantity': 33, 'Purchased_Date': '31-apr-21'} \n",
      "\n",
      "13  =  {'Supplier': 'Glenmark', 'Pid': 'p092', 'Name': 'Asar 40 Tablet', 'Location': 'Row 3 Column 6', 'Price': 424.4, 'Quantity': 3, 'Reorder_Quantity': 22, 'Purchased_Date': '12-aug-21'} \n",
      "\n",
      "14  =  {'Supplier': 'Glenmark', 'Pid': 'p052', 'Name': 'Ascodex Plus Syrup', 'Location': 'Row 6 Column 5', 'Price': 389.0, 'Quantity': 3, 'Reorder_Quantity': 44, 'Purchased_Date': '12-aug-21'} \n",
      "\n",
      "15  =  {'Supplier': 'Nectar Life', 'Pid': 'p068', 'Name': 'Paracetamol', 'Location': 'Row 6 Column 6', 'Price': 549.09, 'Quantity': 5, 'Reorder_Quantity': 34, 'Purchased_Date': '13-aug-21'} \n",
      "\n",
      "16  =  {'Supplier': 'FDC', 'Pid': 'p099', 'Name': 'Tenofovir alafenamide', 'Location': 'Row 5 Column 4', 'Price': 2309.43, 'Quantity': 6, 'Reorder_Quantity': 12, 'Purchased_Date': '15-aug-21'} \n",
      "\n",
      "17  =  {'Supplier': 'Cipla', 'Pid': 'p046', 'Name': 'Alerid Cold Tablet', 'Location': 'Row 2 Column 8', 'Price': 432.56, 'Quantity': 6, 'Reorder_Quantity': 23, 'Purchased_Date': '31-jul-21'} \n",
      "\n",
      "18  =  {'Supplier': 'Cipla', 'Pid': 'p052', 'Name': 'Acivir Cream', 'Location': 'Row 1 Column 7', 'Price': 348.45, 'Quantity': 77, 'Reorder_Quantity': 76, 'Purchased_Date': '15-aug-21'} \n",
      "\n",
      "19  =  {'Supplier': 'Nectar Life', 'Pid': 'p007', 'Name': 'Cetirizine', 'Location': 'Row 3 Column 10', 'Price': 54.34, 'Quantity': 34, 'Reorder_Quantity': 90, 'Purchased_Date': '02-jul-21'} \n",
      "\n",
      "20  =  {'Supplier': 'Johnson & Johnson', 'Pid': 'p040', 'Name': 'Band-Aid', 'Location': 'Row 1 Column 2', 'Price': 5.0, 'Quantity': 46, 'Reorder_Quantity': 65, 'Purchased_Date': '01-jun-21'} \n",
      "\n",
      "21  =  {'Supplier': 'Abbott India', 'Pid': 'p005', 'Name': 'Freestyle', 'Location': 'Row 2 Column 3', 'Price': 53.5, 'Quantity': 34, 'Reorder_Quantity': 65, 'Purchased_Date': '07-aug-21'} \n",
      "\n",
      "22  =  {'Supplier': 'Cipla', 'Pid': 'p003', 'Name': 'Zosul 1000 mg/500 mg Injection', 'Location': 'Row 6 Column 4', 'Price': 750.53, 'Quantity': 54, 'Reorder_Quantity': 32, 'Purchased_Date': '10-aug-21'} \n",
      "\n",
      "23  =  {'Supplier': 'Sun Pharma', 'Pid': 'p075', 'Name': \" Sunitinib 12.5 mg Capsule 7'S\", 'Location': 'Row 4 Column 3', 'Price': 123.0, 'Quantity': 23, 'Reorder_Quantity': 0, 'Purchased_Date': '05-sep-21'} \n",
      "\n",
      "24  =  {'Supplier': 'Nectar Life', 'Pid': 'p024', 'Name': 'Azithromycin', 'Location': 'Row 1 Column 7', 'Price': 331.44, 'Quantity': 34, 'Reorder_Quantity': 34, 'Purchased_Date': '03-sep-21'} \n",
      "\n",
      "25  =  {'Supplier': 'Sun Pharma', 'Pid': 'p023', 'Name': 'Zovair 160mcg/12mcg Inhaler', 'Location': 'Row 6 Column 8', 'Price': 123.44, 'Quantity': 32, 'Reorder_Quantity': 32, 'Purchased_Date': '30-aug-21'} \n",
      "\n",
      "26  =  {'Supplier': 'Abbott India', 'Pid': 'p015', 'Name': 'Pedialyte', 'Location': 'Row 1 Column 1', 'Price': 223.54, 'Quantity': 43, 'Reorder_Quantity': 30, 'Purchased_Date': '28-aug-21'} \n",
      "\n",
      "27  =  {'Supplier': 'Cipla', 'Pid': 'p062', 'Name': \"Viraday Tablet 30'S\", 'Location': 'Row 5 Column 5', 'Price': 543.24, 'Quantity': 43, 'Reorder_Quantity': 30, 'Purchased_Date': '12-aug-21'} \n",
      "\n",
      "28  =  {'Supplier': 'Nectar Life', 'Pid': 'p027', 'Name': 'Amikacin', 'Location': 'Row 2 Column 7', 'Price': 53.22, 'Quantity': 87, 'Reorder_Quantity': 25, 'Purchased_Date': '22-aug-21'} \n",
      "\n",
      "29  =  {'Supplier': 'FDC', 'Pid': 'p065', 'Name': 'Deflazacort', 'Location': 'Row 7 Column 7', 'Price': 535.32, 'Quantity': 0, 'Reorder_Quantity': 50, 'Purchased_Date': '01-sep-21'} \n",
      "\n",
      "30  =  {'Supplier': 'Johnson & Johnson', 'Pid': 'p042', 'Name': 'Tylenol', 'Location': 'Row 3 Column 8', 'Price': 500.43, 'Quantity': 0, 'Reorder_Quantity': 40, 'Purchased_Date': '01-sep-21'} \n",
      "\n"
     ]
    }
   ],
   "source": [
    "for i in record:\n",
    "    print(i,\" = \",record[i],\"\\n\")\n",
    "   # print(\"\\n\")"
   ]
  },
  {
   "cell_type": "code",
   "execution_count": 3,
   "metadata": {},
   "outputs": [],
   "source": [
    "import json\n",
    "js=json.dumps(record)"
   ]
  },
  {
   "cell_type": "code",
   "execution_count": 4,
   "metadata": {
    "scrolled": false
   },
   "outputs": [
    {
     "data": {
      "text/plain": [
       "'{\"1\": {\"Supplier\": \"Glenmark\", \"Pid\": \"p002\", \"Name\": \"Aprezo Tablet\", \"Location\": \"Row 3 Column 4\", \"Price\": 650.56, \"Quantity\": 45, \"Reorder_Quantity\": 21, \"Purchased_Date\": \"03-aug-21\"}, \"2\": {\"Supplier\": \"Johnson & Johnson\", \"Pid\": \"p0453\", \"Name\": \"Ultracet\", \"Location\": \"Row 2 Column 2\", \"Price\": 422.34, \"Quantity\": 67, \"Reorder_Quantity\": 24, \"Purchased_Date\": \"04-jun-21\"}, \"3\": {\"Supplier\": \"Abbott India\", \"Pid\": \"p047\", \"Name\": \"Pedia Sure\", \"Location\": \"Row 3 Column 3\", \"Price\": 760.65, \"Quantity\": 0, \"Reorder_Quantity\": 52, \"Purchased_Date\": \"01-jun-21\"}, \"4\": {\"Supplier\": \"Cipla\", \"Pid\": \"p023\", \"Name\": \"Ataron Eye Drop\", \"Location\": \"Row 2 Column 4\", \"Price\": 654.4, \"Quantity\": 23, \"Reorder_Quantity\": 12, \"Purchased_Date\": \"01-jun-21\"}, \"5\": {\"Supplier\": \"Cipla\", \"Pid\": \"p003\", \"Name\": \"Acemax 250mg Tablet\", \"Location\": \"Row 1 Column 4\", \"Price\": 324.0, \"Quantity\": 4, \"Reorder_Quantity\": 21, \"Purchased_Date\": \"23-jun-21\"}, \"6\": {\"Supplier\": \"Abbott India\", \"Pid\": \"p009\", \"Name\": \"Ensure\", \"Location\": \"Row 2 Column 1\", \"Price\": 657.87, \"Quantity\": 76, \"Reorder_Quantity\": 10, \"Purchased_Date\": \"13-jul-21\"}, \"7\": {\"Supplier\": \"Johnson & Johnson\", \"Pid\": \"p043\", \"Name\": \"Pepcid\", \"Location\": \"Row 4 Column 5\", \"Price\": 874.0, \"Quantity\": 54, \"Reorder_Quantity\": 10, \"Purchased_Date\": \"12-jul-21\"}, \"8\": {\"Supplier\": \"Lupin\", \"Pid\": \"p072\", \"Name\": \"Namuscla 167 mg hard capsules\", \"Location\": \"Row 1 Column 3\", \"Price\": 896.0, \"Quantity\": 87, \"Reorder_Quantity\": 20, \"Purchased_Date\": \"02-jul-21\"}, \"9\": {\"Supplier\": \"Lupin\", \"Pid\": \"p062\", \"Name\": \"Sertraline 100 mg Tablets\", \"Location\": \"Row 5 Column 4\", \"Price\": 3312.0, \"Quantity\": 6, \"Reorder_Quantity\": 30, \"Purchased_Date\": \"30-jun-21\"}, \"10\": {\"Supplier\": \"Sun Pharma\", \"Pid\": \"p097\", \"Name\": \"Nintedanib 100 mg Capsules 10\\'S\", \"Location\": \"Row 3 Column 1\", \"Price\": 342.43, \"Quantity\": 4, \"Reorder_Quantity\": 65, \"Purchased_Date\": \"31-jul-21\"}, \"11\": {\"Supplier\": \"Lupin\", \"Pid\": \"p022\", \"Name\": \"Sertraline 50 mg Tablets\", \"Location\": \"Row 2 Column 5\", \"Price\": 456.63, \"Quantity\": 1, \"Reorder_Quantity\": 55, \"Purchased_Date\": \"23-may-21\"}, \"12\": {\"Supplier\": \"Cipla\", \"Pid\": \"p032\", \"Name\": \"Apetin Drop\", \"Location\": \"Row 3 Column 7\", \"Price\": 898.43, \"Quantity\": 2, \"Reorder_Quantity\": 33, \"Purchased_Date\": \"31-apr-21\"}, \"13\": {\"Supplier\": \"Glenmark\", \"Pid\": \"p092\", \"Name\": \"Asar 40 Tablet\", \"Location\": \"Row 3 Column 6\", \"Price\": 424.4, \"Quantity\": 3, \"Reorder_Quantity\": 22, \"Purchased_Date\": \"12-aug-21\"}, \"14\": {\"Supplier\": \"Glenmark\", \"Pid\": \"p052\", \"Name\": \"Ascodex Plus Syrup\", \"Location\": \"Row 6 Column 5\", \"Price\": 389.0, \"Quantity\": 3, \"Reorder_Quantity\": 44, \"Purchased_Date\": \"12-aug-21\"}, \"15\": {\"Supplier\": \"Nectar Life\", \"Pid\": \"p068\", \"Name\": \"Paracetamol\", \"Location\": \"Row 6 Column 6\", \"Price\": 549.09, \"Quantity\": 5, \"Reorder_Quantity\": 34, \"Purchased_Date\": \"13-aug-21\"}, \"16\": {\"Supplier\": \"FDC\", \"Pid\": \"p099\", \"Name\": \"Tenofovir alafenamide\", \"Location\": \"Row 5 Column 4\", \"Price\": 2309.43, \"Quantity\": 6, \"Reorder_Quantity\": 12, \"Purchased_Date\": \"15-aug-21\"}, \"17\": {\"Supplier\": \"Cipla\", \"Pid\": \"p046\", \"Name\": \"Alerid Cold Tablet\", \"Location\": \"Row 2 Column 8\", \"Price\": 432.56, \"Quantity\": 6, \"Reorder_Quantity\": 23, \"Purchased_Date\": \"31-jul-21\"}, \"18\": {\"Supplier\": \"Cipla\", \"Pid\": \"p052\", \"Name\": \"Acivir Cream\", \"Location\": \"Row 1 Column 7\", \"Price\": 348.45, \"Quantity\": 77, \"Reorder_Quantity\": 76, \"Purchased_Date\": \"15-aug-21\"}, \"19\": {\"Supplier\": \"Nectar Life\", \"Pid\": \"p007\", \"Name\": \"Cetirizine\", \"Location\": \"Row 3 Column 10\", \"Price\": 54.34, \"Quantity\": 34, \"Reorder_Quantity\": 90, \"Purchased_Date\": \"02-jul-21\"}, \"20\": {\"Supplier\": \"Johnson & Johnson\", \"Pid\": \"p040\", \"Name\": \"Band-Aid\", \"Location\": \"Row 1 Column 2\", \"Price\": 5.0, \"Quantity\": 46, \"Reorder_Quantity\": 65, \"Purchased_Date\": \"01-jun-21\"}, \"21\": {\"Supplier\": \"Abbott India\", \"Pid\": \"p005\", \"Name\": \"Freestyle\", \"Location\": \"Row 2 Column 3\", \"Price\": 53.5, \"Quantity\": 34, \"Reorder_Quantity\": 65, \"Purchased_Date\": \"07-aug-21\"}, \"22\": {\"Supplier\": \"Cipla\", \"Pid\": \"p003\", \"Name\": \"Zosul 1000 mg/500 mg Injection\", \"Location\": \"Row 6 Column 4\", \"Price\": 750.53, \"Quantity\": 54, \"Reorder_Quantity\": 32, \"Purchased_Date\": \"10-aug-21\"}, \"23\": {\"Supplier\": \"Sun Pharma\", \"Pid\": \"p075\", \"Name\": \" Sunitinib 12.5 mg Capsule 7\\'S\", \"Location\": \"Row 4 Column 3\", \"Price\": 123.0, \"Quantity\": 23, \"Reorder_Quantity\": 0, \"Purchased_Date\": \"05-sep-21\"}, \"24\": {\"Supplier\": \"Nectar Life\", \"Pid\": \"p024\", \"Name\": \"Azithromycin\", \"Location\": \"Row 1 Column 7\", \"Price\": 331.44, \"Quantity\": 34, \"Reorder_Quantity\": 34, \"Purchased_Date\": \"03-sep-21\"}, \"25\": {\"Supplier\": \"Sun Pharma\", \"Pid\": \"p023\", \"Name\": \"Zovair 160mcg/12mcg Inhaler\", \"Location\": \"Row 6 Column 8\", \"Price\": 123.44, \"Quantity\": 32, \"Reorder_Quantity\": 32, \"Purchased_Date\": \"30-aug-21\"}, \"26\": {\"Supplier\": \"Abbott India\", \"Pid\": \"p015\", \"Name\": \"Pedialyte\", \"Location\": \"Row 1 Column 1\", \"Price\": 223.54, \"Quantity\": 43, \"Reorder_Quantity\": 30, \"Purchased_Date\": \"28-aug-21\"}, \"27\": {\"Supplier\": \"Cipla\", \"Pid\": \"p062\", \"Name\": \"Viraday Tablet 30\\'S\", \"Location\": \"Row 5 Column 5\", \"Price\": 543.24, \"Quantity\": 43, \"Reorder_Quantity\": 30, \"Purchased_Date\": \"12-aug-21\"}, \"28\": {\"Supplier\": \"Nectar Life\", \"Pid\": \"p027\", \"Name\": \"Amikacin\", \"Location\": \"Row 2 Column 7\", \"Price\": 53.22, \"Quantity\": 87, \"Reorder_Quantity\": 25, \"Purchased_Date\": \"22-aug-21\"}, \"29\": {\"Supplier\": \"FDC\", \"Pid\": \"p065\", \"Name\": \"Deflazacort\", \"Location\": \"Row 7 Column 7\", \"Price\": 535.32, \"Quantity\": 0, \"Reorder_Quantity\": 50, \"Purchased_Date\": \"01-sep-21\"}, \"30\": {\"Supplier\": \"Johnson & Johnson\", \"Pid\": \"p042\", \"Name\": \"Tylenol\", \"Location\": \"Row 3 Column 8\", \"Price\": 500.43, \"Quantity\": 0, \"Reorder_Quantity\": 40, \"Purchased_Date\": \"01-sep-21\"}}'"
      ]
     },
     "execution_count": 4,
     "metadata": {},
     "output_type": "execute_result"
    }
   ],
   "source": [
    "js"
   ]
  },
  {
   "cell_type": "code",
   "execution_count": 5,
   "metadata": {},
   "outputs": [],
   "source": [
    "fd=open(\"record.json\",\"w\")    \n",
    "fd.write(js)\n",
    "fd.close()"
   ]
  },
  {
   "cell_type": "code",
   "execution_count": 6,
   "metadata": {},
   "outputs": [
    {
     "data": {
      "text/plain": [
       "str"
      ]
     },
     "execution_count": 6,
     "metadata": {},
     "output_type": "execute_result"
    }
   ],
   "source": [
    "fd=open(\"record.json\",\"r\")\n",
    "txt=fd.read()\n",
    "fd.close()\n",
    "type(txt)"
   ]
  },
  {
   "cell_type": "code",
   "execution_count": 29,
   "metadata": {},
   "outputs": [
    {
     "data": {
      "text/plain": [
       "'{\"1\": {\"Supplier\": \"Glenmark\", \"Pid\": \"p002\", \"Name\": \"Aprezo Tablet\", \"Location\": \"Row 3 Column 4\", \"Price\": 650.56, \"Quantity\": 45, \"Reorder_Quantity\": 21, \"Purchased_Date\": \"03-aug-21\"}, \"2\": {\"Supplier\": \"Johnson & Johnson\", \"Pid\": \"p0453\", \"Name\": \"Ultracet\", \"Location\": \"Row 2 Column 2\", \"Price\": 422.34, \"Quantity\": 67, \"Reorder_Quantity\": 24, \"Purchased_Date\": \"04-jun-21\"}, \"3\": {\"Supplier\": \"Abbott India\", \"Pid\": \"p047\", \"Name\": \"Pedia Sure\", \"Location\": \"Row 3 Column 3\", \"Price\": 760.65, \"Quantity\": 0, \"Reorder_Quantity\": 52, \"Purchased_Date\": \"01-jun-21\"}, \"4\": {\"Supplier\": \"Cipla\", \"Pid\": \"p023\", \"Name\": \"Ataron Eye Drop\", \"Location\": \"Row 2 Column 4\", \"Price\": 654.4, \"Quantity\": 23, \"Reorder_Quantity\": 12, \"Purchased_Date\": \"01-jun-21\"}, \"5\": {\"Supplier\": \"Cipla\", \"Pid\": \"p003\", \"Name\": \"Acemax 250mg Tablet\", \"Location\": \"Row 1 Column 4\", \"Price\": 324.0, \"Quantity\": 4, \"Reorder_Quantity\": 21, \"Purchased_Date\": \"23-jun-21\"}, \"6\": {\"Supplier\": \"Abbott India\", \"Pid\": \"p009\", \"Name\": \"Ensure\", \"Location\": \"Row 2 Column 1\", \"Price\": 657.87, \"Quantity\": 76, \"Reorder_Quantity\": 10, \"Purchased_Date\": \"13-jul-21\"}, \"7\": {\"Supplier\": \"Johnson & Johnson\", \"Pid\": \"p043\", \"Name\": \"Pepcid\", \"Location\": \"Row 4 Column 5\", \"Price\": 874.0, \"Quantity\": 54, \"Reorder_Quantity\": 10, \"Purchased_Date\": \"12-jul-21\"}, \"8\": {\"Supplier\": \"Lupin\", \"Pid\": \"p072\", \"Name\": \"Namuscla 167 mg hard capsules\", \"Location\": \"Row 1 Column 3\", \"Price\": 896.0, \"Quantity\": 87, \"Reorder_Quantity\": 20, \"Purchased_Date\": \"02-jul-21\"}, \"9\": {\"Supplier\": \"Lupin\", \"Pid\": \"p062\", \"Name\": \"Sertraline 100 mg Tablets\", \"Location\": \"Row 5 Column 4\", \"Price\": 3312.0, \"Quantity\": 6, \"Reorder_Quantity\": 30, \"Purchased_Date\": \"30-jun-21\"}, \"10\": {\"Supplier\": \"Sun Pharma\", \"Pid\": \"p097\", \"Name\": \"Nintedanib 100 mg Capsules 10\\'S\", \"Location\": \"Row 3 Column 1\", \"Price\": 342.43, \"Quantity\": 4, \"Reorder_Quantity\": 65, \"Purchased_Date\": \"31-jul-21\"}, \"11\": {\"Supplier\": \"Lupin\", \"Pid\": \"p022\", \"Name\": \"Sertraline 50 mg Tablets\", \"Location\": \"Row 2 Column 5\", \"Price\": 456.63, \"Quantity\": 1, \"Reorder_Quantity\": 55, \"Purchased_Date\": \"23-may-21\"}, \"12\": {\"Supplier\": \"Cipla\", \"Pid\": \"p032\", \"Name\": \"Apetin Drop\", \"Location\": \"Row 3 Column 7\", \"Price\": 898.43, \"Quantity\": 2, \"Reorder_Quantity\": 33, \"Purchased_Date\": \"31-apr-21\"}, \"13\": {\"Supplier\": \"Glenmark\", \"Pid\": \"p092\", \"Name\": \"Asar 40 Tablet\", \"Location\": \"Row 3 Column 6\", \"Price\": 424.4, \"Quantity\": 3, \"Reorder_Quantity\": 22, \"Purchased_Date\": \"12-aug-21\"}, \"14\": {\"Supplier\": \"Glenmark\", \"Pid\": \"p052\", \"Name\": \"Ascodex Plus Syrup\", \"Location\": \"Row 6 Column 5\", \"Price\": 389.0, \"Quantity\": 3, \"Reorder_Quantity\": 44, \"Purchased_Date\": \"12-aug-21\"}, \"15\": {\"Supplier\": \"Nectar Life\", \"Pid\": \"p068\", \"Name\": \"Paracetamol\", \"Location\": \"Row 6 Column 6\", \"Price\": 549.09, \"Quantity\": 5, \"Reorder_Quantity\": 34, \"Purchased_Date\": \"13-aug-21\"}, \"16\": {\"Supplier\": \"FDC\", \"Pid\": \"p099\", \"Name\": \"Tenofovir alafenamide\", \"Location\": \"Row 5 Column 4\", \"Price\": 2309.43, \"Quantity\": 6, \"Reorder_Quantity\": 12, \"Purchased_Date\": \"15-aug-21\"}, \"17\": {\"Supplier\": \"Cipla\", \"Pid\": \"p046\", \"Name\": \"Alerid Cold Tablet\", \"Location\": \"Row 2 Column 8\", \"Price\": 432.56, \"Quantity\": 6, \"Reorder_Quantity\": 23, \"Purchased_Date\": \"31-jul-21\"}, \"18\": {\"Supplier\": \"Cipla\", \"Pid\": \"p052\", \"Name\": \"Acivir Cream\", \"Location\": \"Row 1 Column 7\", \"Price\": 348.45, \"Quantity\": 77, \"Reorder_Quantity\": 76, \"Purchased_Date\": \"15-aug-21\"}, \"19\": {\"Supplier\": \"Nectar Life\", \"Pid\": \"p007\", \"Name\": \"Cetirizine\", \"Location\": \"Row 3 Column 10\", \"Price\": 54.34, \"Quantity\": 34, \"Reorder_Quantity\": 90, \"Purchased_Date\": \"02-jul-21\"}, \"20\": {\"Supplier\": \"Johnson & Johnson\", \"Pid\": \"p040\", \"Name\": \"Band-Aid\", \"Location\": \"Row 1 Column 2\", \"Price\": 5.0, \"Quantity\": 46, \"Reorder_Quantity\": 65, \"Purchased_Date\": \"01-jun-21\"}, \"21\": {\"Supplier\": \"Abbott India\", \"Pid\": \"p005\", \"Name\": \"Freestyle\", \"Location\": \"Row 2 Column 3\", \"Price\": 53.5, \"Quantity\": 34, \"Reorder_Quantity\": 65, \"Purchased_Date\": \"07-aug-21\"}, \"22\": {\"Supplier\": \"Cipla\", \"Pid\": \"p003\", \"Name\": \"Zosul 1000 mg/500 mg Injection\", \"Location\": \"Row 6 Column 4\", \"Price\": 750.53, \"Quantity\": 54, \"Reorder_Quantity\": 32, \"Purchased_Date\": \"10-aug-21\"}, \"23\": {\"Supplier\": \"Sun Pharma\", \"Pid\": \"p075\", \"Name\": \" Sunitinib 12.5 mg Capsule 7\\'S\", \"Location\": \"Row 4 Column 3\", \"Price\": 123.0, \"Quantity\": 23, \"Reorder_Quantity\": 0, \"Purchased_Date\": \"05-sep-21\"}, \"24\": {\"Supplier\": \"Nectar Life\", \"Pid\": \"p024\", \"Name\": \"Azithromycin\", \"Location\": \"Row 1 Column 7\", \"Price\": 331.44, \"Quantity\": 34, \"Reorder_Quantity\": 34, \"Purchased_Date\": \"03-sep-21\"}, \"25\": {\"Supplier\": \"Sun Pharma\", \"Pid\": \"p023\", \"Name\": \"Zovair 160mcg/12mcg Inhaler\", \"Location\": \"Row 6 Column 8\", \"Price\": 123.44, \"Quantity\": 32, \"Reorder_Quantity\": 32, \"Purchased_Date\": \"30-aug-21\"}, \"26\": {\"Supplier\": \"Abbott India\", \"Pid\": \"p015\", \"Name\": \"Pedialyte\", \"Location\": \"Row 1 Column 1\", \"Price\": 223.54, \"Quantity\": 43, \"Reorder_Quantity\": 30, \"Purchased_Date\": \"28-aug-21\"}, \"27\": {\"Supplier\": \"Cipla\", \"Pid\": \"p062\", \"Name\": \"Viraday Tablet 30\\'S\", \"Location\": \"Row 5 Column 5\", \"Price\": 543.24, \"Quantity\": 43, \"Reorder_Quantity\": 30, \"Purchased_Date\": \"12-aug-21\"}, \"28\": {\"Supplier\": \"Nectar Life\", \"Pid\": \"p027\", \"Name\": \"Amikacin\", \"Location\": \"Row 2 Column 7\", \"Price\": 53.22, \"Quantity\": 87, \"Reorder_Quantity\": 25, \"Purchased_Date\": \"22-aug-21\"}, \"29\": {\"Supplier\": \"FDC\", \"Pid\": \"p065\", \"Name\": \"Deflazacort\", \"Location\": \"Row 7 Column 7\", \"Price\": 535.32, \"Quantity\": 0, \"Reorder_Quantity\": 50, \"Purchased_Date\": \"01-sep-21\"}, \"30\": {\"Supplier\": \"Johnson & Johnson\", \"Pid\": \"p042\", \"Name\": \"Tylenol\", \"Location\": \"Row 3 Column 8\", \"Price\": 500.43, \"Quantity\": 0, \"Reorder_Quantity\": 40, \"Purchased_Date\": \"01-sep-21\"}}'"
      ]
     },
     "execution_count": 29,
     "metadata": {},
     "output_type": "execute_result"
    }
   ],
   "source": [
    "txt"
   ]
  },
  {
   "cell_type": "code",
   "execution_count": 7,
   "metadata": {},
   "outputs": [
    {
     "data": {
      "text/plain": [
       "dict"
      ]
     },
     "execution_count": 7,
     "metadata": {},
     "output_type": "execute_result"
    }
   ],
   "source": [
    "jd=json.loads(txt)\n",
    "type(jd)"
   ]
  },
  {
   "cell_type": "code",
   "execution_count": 8,
   "metadata": {},
   "outputs": [
    {
     "data": {
      "text/plain": [
       "{'1': {'Supplier': 'Glenmark',\n",
       "  'Pid': 'p002',\n",
       "  'Name': 'Aprezo Tablet',\n",
       "  'Location': 'Row 3 Column 4',\n",
       "  'Price': 650.56,\n",
       "  'Quantity': 45,\n",
       "  'Reorder_Quantity': 21,\n",
       "  'Purchased_Date': '03-aug-21'},\n",
       " '2': {'Supplier': 'Johnson & Johnson',\n",
       "  'Pid': 'p0453',\n",
       "  'Name': 'Ultracet',\n",
       "  'Location': 'Row 2 Column 2',\n",
       "  'Price': 422.34,\n",
       "  'Quantity': 67,\n",
       "  'Reorder_Quantity': 24,\n",
       "  'Purchased_Date': '04-jun-21'},\n",
       " '3': {'Supplier': 'Abbott India',\n",
       "  'Pid': 'p047',\n",
       "  'Name': 'Pedia Sure',\n",
       "  'Location': 'Row 3 Column 3',\n",
       "  'Price': 760.65,\n",
       "  'Quantity': 0,\n",
       "  'Reorder_Quantity': 52,\n",
       "  'Purchased_Date': '01-jun-21'},\n",
       " '4': {'Supplier': 'Cipla',\n",
       "  'Pid': 'p023',\n",
       "  'Name': 'Ataron Eye Drop',\n",
       "  'Location': 'Row 2 Column 4',\n",
       "  'Price': 654.4,\n",
       "  'Quantity': 23,\n",
       "  'Reorder_Quantity': 12,\n",
       "  'Purchased_Date': '01-jun-21'},\n",
       " '5': {'Supplier': 'Cipla',\n",
       "  'Pid': 'p003',\n",
       "  'Name': 'Acemax 250mg Tablet',\n",
       "  'Location': 'Row 1 Column 4',\n",
       "  'Price': 324.0,\n",
       "  'Quantity': 4,\n",
       "  'Reorder_Quantity': 21,\n",
       "  'Purchased_Date': '23-jun-21'},\n",
       " '6': {'Supplier': 'Abbott India',\n",
       "  'Pid': 'p009',\n",
       "  'Name': 'Ensure',\n",
       "  'Location': 'Row 2 Column 1',\n",
       "  'Price': 657.87,\n",
       "  'Quantity': 76,\n",
       "  'Reorder_Quantity': 10,\n",
       "  'Purchased_Date': '13-jul-21'},\n",
       " '7': {'Supplier': 'Johnson & Johnson',\n",
       "  'Pid': 'p043',\n",
       "  'Name': 'Pepcid',\n",
       "  'Location': 'Row 4 Column 5',\n",
       "  'Price': 874.0,\n",
       "  'Quantity': 54,\n",
       "  'Reorder_Quantity': 10,\n",
       "  'Purchased_Date': '12-jul-21'},\n",
       " '8': {'Supplier': 'Lupin',\n",
       "  'Pid': 'p072',\n",
       "  'Name': 'Namuscla 167 mg hard capsules',\n",
       "  'Location': 'Row 1 Column 3',\n",
       "  'Price': 896.0,\n",
       "  'Quantity': 87,\n",
       "  'Reorder_Quantity': 20,\n",
       "  'Purchased_Date': '02-jul-21'},\n",
       " '9': {'Supplier': 'Lupin',\n",
       "  'Pid': 'p062',\n",
       "  'Name': 'Sertraline 100 mg Tablets',\n",
       "  'Location': 'Row 5 Column 4',\n",
       "  'Price': 3312.0,\n",
       "  'Quantity': 6,\n",
       "  'Reorder_Quantity': 30,\n",
       "  'Purchased_Date': '30-jun-21'},\n",
       " '10': {'Supplier': 'Sun Pharma',\n",
       "  'Pid': 'p097',\n",
       "  'Name': \"Nintedanib 100 mg Capsules 10'S\",\n",
       "  'Location': 'Row 3 Column 1',\n",
       "  'Price': 342.43,\n",
       "  'Quantity': 4,\n",
       "  'Reorder_Quantity': 65,\n",
       "  'Purchased_Date': '31-jul-21'},\n",
       " '11': {'Supplier': 'Lupin',\n",
       "  'Pid': 'p022',\n",
       "  'Name': 'Sertraline 50 mg Tablets',\n",
       "  'Location': 'Row 2 Column 5',\n",
       "  'Price': 456.63,\n",
       "  'Quantity': 1,\n",
       "  'Reorder_Quantity': 55,\n",
       "  'Purchased_Date': '23-may-21'},\n",
       " '12': {'Supplier': 'Cipla',\n",
       "  'Pid': 'p032',\n",
       "  'Name': 'Apetin Drop',\n",
       "  'Location': 'Row 3 Column 7',\n",
       "  'Price': 898.43,\n",
       "  'Quantity': 2,\n",
       "  'Reorder_Quantity': 33,\n",
       "  'Purchased_Date': '31-apr-21'},\n",
       " '13': {'Supplier': 'Glenmark',\n",
       "  'Pid': 'p092',\n",
       "  'Name': 'Asar 40 Tablet',\n",
       "  'Location': 'Row 3 Column 6',\n",
       "  'Price': 424.4,\n",
       "  'Quantity': 3,\n",
       "  'Reorder_Quantity': 22,\n",
       "  'Purchased_Date': '12-aug-21'},\n",
       " '14': {'Supplier': 'Glenmark',\n",
       "  'Pid': 'p052',\n",
       "  'Name': 'Ascodex Plus Syrup',\n",
       "  'Location': 'Row 6 Column 5',\n",
       "  'Price': 389.0,\n",
       "  'Quantity': 3,\n",
       "  'Reorder_Quantity': 44,\n",
       "  'Purchased_Date': '12-aug-21'},\n",
       " '15': {'Supplier': 'Nectar Life',\n",
       "  'Pid': 'p068',\n",
       "  'Name': 'Paracetamol',\n",
       "  'Location': 'Row 6 Column 6',\n",
       "  'Price': 549.09,\n",
       "  'Quantity': 5,\n",
       "  'Reorder_Quantity': 34,\n",
       "  'Purchased_Date': '13-aug-21'},\n",
       " '16': {'Supplier': 'FDC',\n",
       "  'Pid': 'p099',\n",
       "  'Name': 'Tenofovir alafenamide',\n",
       "  'Location': 'Row 5 Column 4',\n",
       "  'Price': 2309.43,\n",
       "  'Quantity': 6,\n",
       "  'Reorder_Quantity': 12,\n",
       "  'Purchased_Date': '15-aug-21'},\n",
       " '17': {'Supplier': 'Cipla',\n",
       "  'Pid': 'p046',\n",
       "  'Name': 'Alerid Cold Tablet',\n",
       "  'Location': 'Row 2 Column 8',\n",
       "  'Price': 432.56,\n",
       "  'Quantity': 6,\n",
       "  'Reorder_Quantity': 23,\n",
       "  'Purchased_Date': '31-jul-21'},\n",
       " '18': {'Supplier': 'Cipla',\n",
       "  'Pid': 'p052',\n",
       "  'Name': 'Acivir Cream',\n",
       "  'Location': 'Row 1 Column 7',\n",
       "  'Price': 348.45,\n",
       "  'Quantity': 77,\n",
       "  'Reorder_Quantity': 76,\n",
       "  'Purchased_Date': '15-aug-21'},\n",
       " '19': {'Supplier': 'Nectar Life',\n",
       "  'Pid': 'p007',\n",
       "  'Name': 'Cetirizine',\n",
       "  'Location': 'Row 3 Column 10',\n",
       "  'Price': 54.34,\n",
       "  'Quantity': 34,\n",
       "  'Reorder_Quantity': 90,\n",
       "  'Purchased_Date': '02-jul-21'},\n",
       " '20': {'Supplier': 'Johnson & Johnson',\n",
       "  'Pid': 'p040',\n",
       "  'Name': 'Band-Aid',\n",
       "  'Location': 'Row 1 Column 2',\n",
       "  'Price': 5.0,\n",
       "  'Quantity': 46,\n",
       "  'Reorder_Quantity': 65,\n",
       "  'Purchased_Date': '01-jun-21'},\n",
       " '21': {'Supplier': 'Abbott India',\n",
       "  'Pid': 'p005',\n",
       "  'Name': 'Freestyle',\n",
       "  'Location': 'Row 2 Column 3',\n",
       "  'Price': 53.5,\n",
       "  'Quantity': 34,\n",
       "  'Reorder_Quantity': 65,\n",
       "  'Purchased_Date': '07-aug-21'},\n",
       " '22': {'Supplier': 'Cipla',\n",
       "  'Pid': 'p003',\n",
       "  'Name': 'Zosul 1000 mg/500 mg Injection',\n",
       "  'Location': 'Row 6 Column 4',\n",
       "  'Price': 750.53,\n",
       "  'Quantity': 54,\n",
       "  'Reorder_Quantity': 32,\n",
       "  'Purchased_Date': '10-aug-21'},\n",
       " '23': {'Supplier': 'Sun Pharma',\n",
       "  'Pid': 'p075',\n",
       "  'Name': \" Sunitinib 12.5 mg Capsule 7'S\",\n",
       "  'Location': 'Row 4 Column 3',\n",
       "  'Price': 123.0,\n",
       "  'Quantity': 23,\n",
       "  'Reorder_Quantity': 0,\n",
       "  'Purchased_Date': '05-sep-21'},\n",
       " '24': {'Supplier': 'Nectar Life',\n",
       "  'Pid': 'p024',\n",
       "  'Name': 'Azithromycin',\n",
       "  'Location': 'Row 1 Column 7',\n",
       "  'Price': 331.44,\n",
       "  'Quantity': 34,\n",
       "  'Reorder_Quantity': 34,\n",
       "  'Purchased_Date': '03-sep-21'},\n",
       " '25': {'Supplier': 'Sun Pharma',\n",
       "  'Pid': 'p023',\n",
       "  'Name': 'Zovair 160mcg/12mcg Inhaler',\n",
       "  'Location': 'Row 6 Column 8',\n",
       "  'Price': 123.44,\n",
       "  'Quantity': 32,\n",
       "  'Reorder_Quantity': 32,\n",
       "  'Purchased_Date': '30-aug-21'},\n",
       " '26': {'Supplier': 'Abbott India',\n",
       "  'Pid': 'p015',\n",
       "  'Name': 'Pedialyte',\n",
       "  'Location': 'Row 1 Column 1',\n",
       "  'Price': 223.54,\n",
       "  'Quantity': 43,\n",
       "  'Reorder_Quantity': 30,\n",
       "  'Purchased_Date': '28-aug-21'},\n",
       " '27': {'Supplier': 'Cipla',\n",
       "  'Pid': 'p062',\n",
       "  'Name': \"Viraday Tablet 30'S\",\n",
       "  'Location': 'Row 5 Column 5',\n",
       "  'Price': 543.24,\n",
       "  'Quantity': 43,\n",
       "  'Reorder_Quantity': 30,\n",
       "  'Purchased_Date': '12-aug-21'},\n",
       " '28': {'Supplier': 'Nectar Life',\n",
       "  'Pid': 'p027',\n",
       "  'Name': 'Amikacin',\n",
       "  'Location': 'Row 2 Column 7',\n",
       "  'Price': 53.22,\n",
       "  'Quantity': 87,\n",
       "  'Reorder_Quantity': 25,\n",
       "  'Purchased_Date': '22-aug-21'},\n",
       " '29': {'Supplier': 'FDC',\n",
       "  'Pid': 'p065',\n",
       "  'Name': 'Deflazacort',\n",
       "  'Location': 'Row 7 Column 7',\n",
       "  'Price': 535.32,\n",
       "  'Quantity': 0,\n",
       "  'Reorder_Quantity': 50,\n",
       "  'Purchased_Date': '01-sep-21'},\n",
       " '30': {'Supplier': 'Johnson & Johnson',\n",
       "  'Pid': 'p042',\n",
       "  'Name': 'Tylenol',\n",
       "  'Location': 'Row 3 Column 8',\n",
       "  'Price': 500.43,\n",
       "  'Quantity': 0,\n",
       "  'Reorder_Quantity': 40,\n",
       "  'Purchased_Date': '01-sep-21'}}"
      ]
     },
     "execution_count": 8,
     "metadata": {},
     "output_type": "execute_result"
    }
   ],
   "source": [
    "jd"
   ]
  },
  {
   "cell_type": "code",
   "execution_count": 11,
   "metadata": {},
   "outputs": [
    {
     "name": "stdout",
     "output_type": "stream",
     "text": [
      "ENTER NAME: Paracetamol\n",
      "ENTER QUANTITY: 3\n",
      "*****************\n",
      "PID:  p068\n",
      "Name:  Paracetamol\n",
      "Quantity_purchased:  3\n",
      "Price:  549.09\n",
      "*****************\n",
      "Total BILLING AMOUNT:  1647.27\n",
      "*****************\n"
     ]
    }
   ],
   "source": [
    "#billing of the medicine\n",
    "nme=input(\"ENTER NAME: \")\n",
    "qua=int(input(\"ENTER QUANTITY: \"))\n",
    "for i in record:\n",
    "    if (nme == record[i][\"Name\"] and record[i][\"Quantity\"]>0):\n",
    "        print(\"*****************\")\n",
    "        print(\"PID: \",record[i][\"Pid\"])\n",
    "        print(\"Name: \",record[i][\"Name\"])\n",
    "        print(\"Quantity_purchased: \",qua)\n",
    "        print(\"Price: \",record[i][\"Price\"])\n",
    "        print(\"*****************\")\n",
    "        print(\"Total BILLING AMOUNT: \", record[i][\"Price\"]*qua)\n",
    "        print(\"*****************\")"
   ]
  },
  {
   "cell_type": "code",
   "execution_count": 10,
   "metadata": {},
   "outputs": [
    {
     "name": "stdout",
     "output_type": "stream",
     "text": [
      "Enter Name of the medicine: Pepcid\n",
      "Inventory price for  Pepcid  is:  47196.0\n"
     ]
    }
   ],
   "source": [
    "#checking the inventory price for a particular medicine\n",
    "name=input(\"Enter Name of the medicine: \")\n",
    "for i in record:\n",
    "    if(name==record[i][\"Name\"]):\n",
    "        print(\"Inventory price for \", name, \" is: \", record[i][\"Quantity\"]*record[i][\"Price\"])\n"
   ]
  },
  {
   "cell_type": "code",
   "execution_count": 15,
   "metadata": {},
   "outputs": [
    {
     "name": "stdout",
     "output_type": "stream",
     "text": [
      "Enter Name of the medicine: Pepcid\n",
      "Total Stock:  54\n"
     ]
    }
   ],
   "source": [
    "#checking stock for the medicine\n",
    "name=input(\"Enter Name of the medicine: \")\n",
    "for i in record:\n",
    "    if(name==record[i][\"Name\"] and record[i][\"Quantity\"]>0):\n",
    "        print(\"Total Stock: \",record[i][\"Quantity\"])\n",
    "    if(name==record[i][\"Name\"] and record[i][\"Quantity\"]<0):\n",
    "        print(\"stock not available\")\n",
    "        "
   ]
  },
  {
   "cell_type": "code",
   "execution_count": 19,
   "metadata": {},
   "outputs": [
    {
     "name": "stdout",
     "output_type": "stream",
     "text": [
      "enter name: Pedialyte\n",
      "enter quantity: 3\n"
     ]
    },
    {
     "ename": "TypeError",
     "evalue": "string indices must be integers",
     "output_type": "error",
     "traceback": [
      "\u001b[1;31m---------------------------------------------------------------------------\u001b[0m",
      "\u001b[1;31mTypeError\u001b[0m                                 Traceback (most recent call last)",
      "\u001b[1;32m<ipython-input-19-f10485e55962>\u001b[0m in \u001b[0;36m<module>\u001b[1;34m\u001b[0m\n\u001b[0;32m      4\u001b[0m \u001b[0mqua\u001b[0m\u001b[1;33m=\u001b[0m\u001b[0mint\u001b[0m\u001b[1;33m(\u001b[0m\u001b[0minput\u001b[0m\u001b[1;33m(\u001b[0m\u001b[1;34m\"enter quantity: \"\u001b[0m\u001b[1;33m)\u001b[0m\u001b[1;33m)\u001b[0m\u001b[1;33m\u001b[0m\u001b[1;33m\u001b[0m\u001b[0m\n\u001b[0;32m      5\u001b[0m \u001b[1;32mfor\u001b[0m \u001b[0mi\u001b[0m \u001b[1;32min\u001b[0m \u001b[0mrecord\u001b[0m\u001b[1;33m:\u001b[0m\u001b[1;33m\u001b[0m\u001b[1;33m\u001b[0m\u001b[0m\n\u001b[1;32m----> 6\u001b[1;33m     \u001b[1;32mif\u001b[0m\u001b[1;33m(\u001b[0m\u001b[0mnme\u001b[0m\u001b[1;33m==\u001b[0m\u001b[0mtxt\u001b[0m\u001b[1;33m[\u001b[0m\u001b[0mi\u001b[0m\u001b[1;33m]\u001b[0m\u001b[1;33m[\u001b[0m\u001b[1;34m\"Name\"\u001b[0m\u001b[1;33m]\u001b[0m \u001b[1;32mand\u001b[0m \u001b[0mtxt\u001b[0m\u001b[1;33m[\u001b[0m\u001b[0mi\u001b[0m\u001b[1;33m]\u001b[0m\u001b[1;33m[\u001b[0m\u001b[1;34m\"Quantity\"\u001b[0m\u001b[1;33m]\u001b[0m\u001b[1;33m>\u001b[0m\u001b[1;36m0\u001b[0m\u001b[1;33m)\u001b[0m\u001b[1;33m:\u001b[0m\u001b[1;33m\u001b[0m\u001b[1;33m\u001b[0m\u001b[0m\n\u001b[0m\u001b[0;32m      7\u001b[0m         \u001b[0my\u001b[0m \u001b[1;33m=\u001b[0m \u001b[0mtxt\u001b[0m\u001b[1;33m[\u001b[0m\u001b[0mi\u001b[0m\u001b[1;33m]\u001b[0m\u001b[1;33m[\u001b[0m\u001b[1;34m\"Quantity\"\u001b[0m\u001b[1;33m]\u001b[0m\u001b[1;33m-\u001b[0m\u001b[0mqua\u001b[0m\u001b[1;33m\u001b[0m\u001b[1;33m\u001b[0m\u001b[0m\n\u001b[0;32m      8\u001b[0m         \u001b[0mfd\u001b[0m\u001b[1;33m.\u001b[0m\u001b[0mwrite\u001b[0m\u001b[1;33m(\u001b[0m\u001b[0my\u001b[0m\u001b[1;33m)\u001b[0m\u001b[1;33m\u001b[0m\u001b[1;33m\u001b[0m\u001b[0m\n",
      "\u001b[1;31mTypeError\u001b[0m: string indices must be integers"
     ]
    }
   ],
   "source": [
    "fd=open(\"record.json\",\"w\")\n",
    "\n",
    "nme=input(\"enter name: \")\n",
    "qua=int(input(\"enter quantity: \"))\n",
    "for i in record:\n",
    "    if(nme==txt[i][\"Name\"] and txt[i][\"Quantity\"]>0):\n",
    "        y = txt[i][\"Quantity\"]-qua\n",
    "        fd.write(y)\n",
    "fd.close()\n",
    "    "
   ]
  },
  {
   "cell_type": "code",
   "execution_count": null,
   "metadata": {},
   "outputs": [],
   "source": []
  }
 ],
 "metadata": {
  "kernelspec": {
   "display_name": "Python 3",
   "language": "python",
   "name": "python3"
  },
  "language_info": {
   "codemirror_mode": {
    "name": "ipython",
    "version": 3
   },
   "file_extension": ".py",
   "mimetype": "text/x-python",
   "name": "python",
   "nbconvert_exporter": "python",
   "pygments_lexer": "ipython3",
   "version": "3.8.5"
  }
 },
 "nbformat": 4,
 "nbformat_minor": 4
}
